{
 "cells": [
  {
   "cell_type": "markdown",
   "id": "f34a9636-027b-438b-93c7-103b1daba7cb",
   "metadata": {},
   "source": [
    "### Problem 1: Swap Two Variables Without a Third Variable"
   ]
  },
  {
   "cell_type": "markdown",
   "id": "3fe6d82c-47ea-42c1-8aab-af8a6b3bcbee",
   "metadata": {},
   "source": [
    "<details>\n",
    "    <summary> Solution 1</summary>\n",
    "\n",
    "```python\n",
    "a = 5\n",
    "b = 10\n",
    "a, b = b, a  # Swapping\n",
    "print(\"a =\", a, \"b =\", b)  # Output: a = 10, b = 5\n",
    "```"
   ]
  },
  {
   "cell_type": "markdown",
   "id": "81c39150-50ca-4540-ac47-a09da4c3e890",
   "metadata": {},
   "source": [
    "### Problem 2: Reverse a List Without reverse()\n",
    "<br>nums = [10, 20, 30, 40, 50]"
   ]
  },
  {
   "cell_type": "markdown",
   "id": "71b467f9-9c84-4adc-b23c-d0578149398d",
   "metadata": {},
   "source": [
    "<details>\n",
    "    <summary> Solution 2</summary>\n",
    "\n",
    "```python\n",
    "nums = [10, 20, 30, 40, 50]\n",
    "reversed_list = nums[::-1]  # Slicing method\n",
    "print(reversed_list)  # Output: [50, 40, 30, 20, 10]\n",
    "```"
   ]
  },
  {
   "cell_type": "markdown",
   "id": "29cf74e7-e02c-4e8a-b388-6310a213217b",
   "metadata": {},
   "source": [
    "### Problem 3: Convert List to Tuple and Access Third Element"
   ]
  },
  {
   "cell_type": "markdown",
   "id": "425b50a7-d376-41ee-9437-3494b8987f00",
   "metadata": {},
   "source": [
    "<details>\n",
    "    <summary> Solution 3</summary>\n",
    "\n",
    "```python\n",
    "lst = [1, 2, 3, 4, 5]\n",
    "tup = tuple(lst)\n",
    "print(tup[2])  # Output: 3"
   ]
  },
  {
   "cell_type": "markdown",
   "id": "55a64055-fa6e-49ef-b6e6-07fbf8ceca0d",
   "metadata": {},
   "source": [
    "### Problem 4: Merge Two Dictionaries\n",
    "<br>dict1 = {\"a\": 1, \"b\": 2}\n",
    "<br>dict2 = {\"c\": 3, \"d\": 4}"
   ]
  },
  {
   "cell_type": "markdown",
   "id": "62e004cd-3a3a-4024-ace6-2c5fd945cf23",
   "metadata": {},
   "source": [
    "<details>\n",
    "    <summary> Solution 4</summary>\n",
    "    \n",
    "```python\n",
    "dict1 = {\"a\": 1, \"b\": 2}\n",
    "dict2 = {\"c\": 3, \"d\": 4}\n",
    "merged_dict = {**dict1, **dict2}  # Merging dictionaries\n",
    "print(merged_dict)  # Output: {'a': 1, 'b': 2, 'c': 3, 'd': 4}\n"
   ]
  },
  {
   "cell_type": "markdown",
   "id": "968f46fc-3df0-4fc7-91d6-77da821f4bb8",
   "metadata": {},
   "source": [
    "### Problem 5: Print Fibonacci Series up to n Terms"
   ]
  },
  {
   "cell_type": "markdown",
   "id": "7a4a8ca4-73f6-4c72-954d-f66656f89c04",
   "metadata": {},
   "source": [
    "<details>\n",
    "    <summary> Solution 5</summary>\n",
    "\n",
    "```python\n",
    "def fibonacci(n):\n",
    "    a, b = 0, 1\n",
    "    for _ in range(n):\n",
    "        print(a, end=\" \")\n",
    "        a, b = b, a + b\n",
    "\n",
    "fibonacci(10)  # Output: 0 1 1 2 3 5 8 13 21 34\n"
   ]
  },
  {
   "cell_type": "markdown",
   "id": "36a12a11-3f67-4758-8715-266cf0f0c816",
   "metadata": {},
   "source": [
    "### Problem 6: Count Even and Odd Numbers in a List \n",
    "<br>nums = [1, 2, 3, 4, 5, 6, 7, 8, 9, 10]"
   ]
  },
  {
   "cell_type": "markdown",
   "id": "8652a147-a8fe-4eb8-a7d3-6a2ba6cf7fe1",
   "metadata": {},
   "source": [
    "<details>\n",
    "    <summary> Solution 6</summary>\n",
    "\n",
    "```python\n",
    "nums = [1, 2, 3, 4, 5, 6, 7, 8, 9, 10]\n",
    "even_count = odd_count = 0\n",
    "i = 0\n",
    "\n",
    "while i < len(nums):\n",
    "    if nums[i] % 2 == 0:\n",
    "        even_count += 1\n",
    "    else:\n",
    "        odd_count += 1\n",
    "    i += 1\n",
    "\n",
    "print(\"Even:\", even_count, \"Odd:\", odd_count)  # Output: Even: 5 Odd: 5\n"
   ]
  },
  {
   "cell_type": "markdown",
   "id": "466fef56-df51-4b17-a01c-a3273eb2af4d",
   "metadata": {},
   "source": [
    "### Problem 7: Check if a Number is Prime"
   ]
  },
  {
   "cell_type": "markdown",
   "id": "aed87ac7-0aab-48d3-9f7d-5700114bf9cd",
   "metadata": {},
   "source": [
    "<details>\n",
    "    <summary> Solution 7</summary>\n",
    "\n",
    "```python\n",
    "def is_prime(n):\n",
    "    if n < 2:\n",
    "        return False\n",
    "    for i in range(2, int(n ** 0.5) + 1):\n",
    "        if n % i == 0:\n",
    "            return False\n",
    "    return True\n",
    "\n",
    "print(is_prime(11))  # Output: True\n",
    "print(is_prime(15))  # Output: False\n"
   ]
  },
  {
   "cell_type": "markdown",
   "id": "3d0ec1fe-099e-4d86-9eff-d601d599d672",
   "metadata": {},
   "source": [
    "### Problem 8: Count Vowels in a String"
   ]
  },
  {
   "cell_type": "markdown",
   "id": "f60efc6f-5494-4271-a0ea-e6793a9e80cd",
   "metadata": {},
   "source": [
    "<details>\n",
    "    <summary> Solution 8</summary>\n",
    "\n",
    "```python\n",
    "def count_vowels(s):\n",
    "    vowels = \"aeiouAEIOU\"\n",
    "    return sum(1 for char in s if char in vowels)\n",
    "\n",
    "print(count_vowels(\"Hello World\"))  # Output: 3\n"
   ]
  }
 ],
 "metadata": {
  "kernelspec": {
   "display_name": "Python 3 (ipykernel)",
   "language": "python",
   "name": "python3"
  },
  "language_info": {
   "codemirror_mode": {
    "name": "ipython",
    "version": 3
   },
   "file_extension": ".py",
   "mimetype": "text/x-python",
   "name": "python",
   "nbconvert_exporter": "python",
   "pygments_lexer": "ipython3",
   "version": "3.12.3"
  }
 },
 "nbformat": 4,
 "nbformat_minor": 5
}
