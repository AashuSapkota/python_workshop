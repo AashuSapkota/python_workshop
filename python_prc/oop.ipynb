{
 "cells": [
  {
   "cell_type": "markdown",
   "id": "9b7031d7-3ba5-4d40-b4b5-30ee9fcbfdf0",
   "metadata": {},
   "source": [
    "## 1. What is Object-Oriented Programming?\n",
    "Object-Oriented Programming (OOP) is a programming paradigm that structures code around objects. Objects are instances of classes that bundle data (attributes) and behavior (methods)."
   ]
  },
  {
   "cell_type": "markdown",
   "id": "e76fb38a-5eb4-4315-acb3-dd6adb5c33ad",
   "metadata": {},
   "source": [
    "## 2. Inheritance\n",
    "**Definition:** Inheritance allows one class (child) to acquire properties and methods from another class (parent). This promotes **code reusability** and **hierarchical organization**.\n",
    "\n",
    "**Real-World Example:**\n",
    "- A `Vehicle` class may define common properties like `speed` and `fuel_capacity`.\n",
    "- A `Car` class can **inherit** from `Vehicle` and add specific features like `air_conditioning`."
   ]
  },
  {
   "cell_type": "code",
   "execution_count": 2,
   "id": "4c2051fe-043a-4413-808d-b374c5fdd459",
   "metadata": {},
   "outputs": [
    {
     "name": "stdout",
     "output_type": "stream",
     "text": [
      "The Toyota moves at 180 km/h.\n",
      "Air Conditioning: True\n"
     ]
    }
   ],
   "source": [
    "# Example of Inheritance in Python\n",
    "class Vehicle:\n",
    "    def __init__(self, brand, speed):\n",
    "        self.brand = brand\n",
    "        self.speed = speed\n",
    "\n",
    "    def move(self):\n",
    "        return f\"The {self.brand} moves at {self.speed} km/h.\"\n",
    "\n",
    "# Child class inheriting from Vehicle\n",
    "class Car(Vehicle):\n",
    "    def __init__(self, brand, speed, air_conditioning):\n",
    "        super().__init__(brand, speed)\n",
    "        self.air_conditioning = air_conditioning\n",
    "\n",
    "# Creating an object of the Car class\n",
    "my_car = Car(\"Toyota\", 180, True)\n",
    "print(my_car.move())  # Inherited method\n",
    "print(f\"Air Conditioning: {my_car.air_conditioning}\")  # Child class attribute\n",
    "    "
   ]
  },
  {
   "cell_type": "markdown",
   "id": "d469ee61-e99d-4698-9c77-858ecc752252",
   "metadata": {},
   "source": [
    "## 3. Polymorphism\n",
    "**Definition:** Polymorphism allows objects of different classes to be treated as instances of the same class by overriding methods to provide different behavior.\n",
    "\n",
    "**Real-World Example:**\n",
    "- A `Bird` and `Dog` both have a `speak()` method, but a bird **chirps** while a dog **barks**.\n",
    "- The same method name behaves differently depending on the class."
   ]
  },
  {
   "cell_type": "code",
   "execution_count": 3,
   "id": "572e44e9-a070-4120-81e6-c4f70d81d9ef",
   "metadata": {},
   "outputs": [
    {
     "name": "stdout",
     "output_type": "stream",
     "text": [
      "Woof!\n",
      "Meow!\n",
      "I make a sound.\n"
     ]
    }
   ],
   "source": [
    "# Example of Polymorphism in Python\n",
    "class Animal:\n",
    "    def speak(self):\n",
    "        return \"I make a sound.\"\n",
    "\n",
    "class Dog(Animal):\n",
    "    def speak(self):\n",
    "        return \"Woof!\"\n",
    "\n",
    "class Cat(Animal):\n",
    "    def speak(self):\n",
    "        return \"Meow!\"\n",
    "\n",
    "# Polymorphic behavior\n",
    "animals = [Dog(), Cat(), Animal()]\n",
    "\n",
    "for animal in animals:\n",
    "    print(animal.speak())  # Same method, different behavior\n",
    "    "
   ]
  },
  {
   "cell_type": "markdown",
   "id": "49b8c8e5-f434-4517-ad26-ae96f666381f",
   "metadata": {},
   "source": [
    "## 4. Encapsulation\n",
    "**Definition:** Encapsulation restricts direct access to certain attributes and methods, ensuring data integrity and security.\n",
    "\n",
    "**Real-World Example:**\n",
    "- A **Bank Account** class should **hide** its balance attribute and only allow controlled access through deposit and withdrawal methods."
   ]
  },
  {
   "cell_type": "code",
   "execution_count": 4,
   "id": "3e4c55e1-78b3-4451-997c-e6cab987d488",
   "metadata": {},
   "outputs": [
    {
     "name": "stdout",
     "output_type": "stream",
     "text": [
      "1500\n"
     ]
    }
   ],
   "source": [
    "# Example of Encapsulation in Python\n",
    "class BankAccount:\n",
    "    def __init__(self, balance):\n",
    "        self.__balance = balance  # Private attribute\n",
    "\n",
    "    def deposit(self, amount):\n",
    "        self.__balance += amount\n",
    "\n",
    "    def get_balance(self):\n",
    "        return self.__balance  # Controlled access\n",
    "\n",
    "# Creating an object\n",
    "account = BankAccount(1000)\n",
    "account.deposit(500)\n",
    "print(account.get_balance())  # Output: 1500\n",
    "\n",
    "# Uncommenting the next line will cause an error\n",
    "# print(account.__balance)  # AttributeError\n",
    "    "
   ]
  },
  {
   "cell_type": "markdown",
   "id": "6e9e21b2-b711-438e-b34b-8b1e2788bc4e",
   "metadata": {},
   "source": [
    "## 5. Abstraction\n",
    "**Definition:** Abstraction hides complex implementation details and only shows essential features to the user.\n",
    "\n",
    "**Real-World Example:**\n",
    "- A **Car** has a `start()` method, but the user does not need to know how the engine ignites internally.\n",
    "- In Python, abstraction is implemented using **abstract classes and methods**."
   ]
  },
  {
   "cell_type": "code",
   "execution_count": 6,
   "id": "1c1bed2a-b09f-485d-897a-90e8eb5df40e",
   "metadata": {},
   "outputs": [
    {
     "name": "stdout",
     "output_type": "stream",
     "text": [
      "Account Holder: Alice\n",
      "Deposited $500. New Balance: $1500\n",
      "Withdrawn $200. Remaining Balance: $1300\n",
      "Balance: $1300\n"
     ]
    }
   ],
   "source": [
    "from abc import ABC, abstractmethod\n",
    "\n",
    "# Abstract Class\n",
    "class BankAccount(ABC):\n",
    "    def __init__(self, account_holder, balance):\n",
    "        self.account_holder = account_holder\n",
    "        self._balance = balance  # Protected attribute (single underscore)\n",
    "\n",
    "    # Abstract Method (must be implemented by subclasses)\n",
    "    @abstractmethod\n",
    "    def deposit(self, amount):\n",
    "        pass\n",
    "\n",
    "    @abstractmethod\n",
    "    def withdraw(self, amount):\n",
    "        pass\n",
    "\n",
    "    # Concrete Method (Implemented in Abstract Class)\n",
    "    def get_balance(self):\n",
    "        return self._balance\n",
    "\n",
    "# Concrete Class (Extending Abstract Class)\n",
    "class SavingsAccount(BankAccount):\n",
    "    def __init__(self, account_holder, balance, interest_rate):\n",
    "        super().__init__(account_holder, balance)\n",
    "        self.interest_rate = interest_rate\n",
    "\n",
    "    # Implementing abstract method\n",
    "    def deposit(self, amount):\n",
    "        if amount > 0:\n",
    "            self._balance += amount\n",
    "            print(f\"Deposited ${amount}. New Balance: ${self._balance}\")\n",
    "        else:\n",
    "            print(\"Deposit amount must be positive.\")\n",
    "\n",
    "    # Implementing abstract method\n",
    "    def withdraw(self, amount):\n",
    "        if 0 < amount <= self._balance:\n",
    "            self._balance -= amount\n",
    "            print(f\"Withdrawn ${amount}. Remaining Balance: ${self._balance}\")\n",
    "        else:\n",
    "            print(\"Invalid withdrawal amount.\")\n",
    "\n",
    "# Creating an object of SavingsAccount (Not of BankAccount)\n",
    "account = SavingsAccount(\"Alice\", 1000, 2.5)\n",
    "\n",
    "# Accessing account holder\n",
    "print(f\"Account Holder: {account.account_holder}\")  # Output: Alice\n",
    "\n",
    "# Depositing money\n",
    "account.deposit(500)  # Output: Deposited $500. New Balance: $1500\n",
    "\n",
    "# Withdrawing money\n",
    "account.withdraw(200)  # Output: Withdrawn $200. Remaining Balance: $1300\n",
    "\n",
    "# Getting balance using the concrete method\n",
    "print(f\"Balance: ${account.get_balance()}\")  # Output: 1300\n",
    "\n",
    "# Attempting to instantiate the abstract class (will cause an error)\n",
    "# obj = BankAccount(\"Bob\", 2000)  # TypeError: Can't instantiate abstract class\n"
   ]
  },
  {
   "cell_type": "code",
   "execution_count": null,
   "id": "377f0b9e-e6ba-45b3-a60a-69f3a6c8ce5d",
   "metadata": {},
   "outputs": [],
   "source": []
  }
 ],
 "metadata": {
  "kernelspec": {
   "display_name": "Python 3 (ipykernel)",
   "language": "python",
   "name": "python3"
  },
  "language_info": {
   "codemirror_mode": {
    "name": "ipython",
    "version": 3
   },
   "file_extension": ".py",
   "mimetype": "text/x-python",
   "name": "python",
   "nbconvert_exporter": "python",
   "pygments_lexer": "ipython3",
   "version": "3.12.3"
  }
 },
 "nbformat": 4,
 "nbformat_minor": 5
}
