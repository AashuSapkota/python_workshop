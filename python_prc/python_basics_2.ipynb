{
 "cells": [
  {
   "cell_type": "markdown",
   "id": "dfb8c65b-73c9-4bc2-a883-9a3566999841",
   "metadata": {},
   "source": [
    "## **Objective**\n",
    "Understand how to control the flow of code using conditions, loops, functions, and exception handling.\n",
    "\n",
    "---\n"
   ]
  },
  {
   "cell_type": "markdown",
   "id": "10947787-1e33-4dac-a944-84d6fecdc769",
   "metadata": {},
   "source": [
    "## **1. Conditional Statements**\n",
    "\n",
    "Conditional statements allow you to execute a block of code based on specific conditions.\n",
    "\n",
    "### **if-else Statements**\n",
    "\n",
    "| **Syntax**                                 | **Description**                                      |\n",
    "|--------------------------------------------|------------------------------------------------------|\n",
    "| `if condition:`                            | Executes the block if the condition is `True`.       |\n",
    "| `else:`                                    | Executes the block if the `if` condition is `False`. |\n",
    "| `elif condition:`                          | Checks another condition if the previous was `False`.|"
   ]
  },
  {
   "cell_type": "code",
   "execution_count": 2,
   "id": "ff8f1f21-76bf-4111-885f-4a567afcdc7e",
   "metadata": {},
   "outputs": [
    {
     "name": "stdout",
     "output_type": "stream",
     "text": [
      "x is positive\n"
     ]
    }
   ],
   "source": [
    "x = 10\n",
    "\n",
    "if x > 0:\n",
    "    print(\"x is positive\")\n",
    "elif x == 0:\n",
    "    print(\"x is zero\")\n",
    "else:\n",
    "    print(\"x is negative\")"
   ]
  },
  {
   "cell_type": "markdown",
   "id": "17eef3d0-c89a-4a5f-b97a-386be26a9c41",
   "metadata": {},
   "source": [
    "### **Nested if**\n",
    "You can nest `if` statements to check multiple levels of conditions."
   ]
  },
  {
   "cell_type": "code",
   "execution_count": 3,
   "id": "a541bf64-5f8f-4d64-ac19-a0af07e6bca2",
   "metadata": {},
   "outputs": [
    {
     "name": "stdout",
     "output_type": "stream",
     "text": [
      "You are just old enough to vote!\n"
     ]
    }
   ],
   "source": [
    "age = 18\n",
    "if age >= 18:\n",
    "    if age == 18:\n",
    "        print(\"You are just old enough to vote!\")\n",
    "    else:\n",
    "        print(\"You are eligible to vote.\")\n",
    "else:\n",
    "    print(\"You are not old enough to vote.\")"
   ]
  },
  {
   "cell_type": "markdown",
   "id": "75402269-4b63-4731-9291-4b745e5f4d70",
   "metadata": {},
   "source": [
    "---\n",
    "## **2. Loops**\n",
    "\n",
    "Loops are used to execute a block of code repeatedly.\n",
    "\n",
    "### **for Loop**\n",
    "- Iterates over a sequence (e.g., list, tuple, dictionary, string, or range).\n",
    "  \n",
    "| **Syntax**                                 | **Description**                                      |\n",
    "|--------------------------------------------|------------------------------------------------------|\n",
    "| `for variable in sequence:`                | Iterates over each item in the sequence.             |\n",
    "| `break`                                    | Exits the loop prematurely.                          |\n",
    "| `continue`                                 | Skips the current iteration and continues the loop.  |\n",
    "\n"
   ]
  },
  {
   "cell_type": "code",
   "execution_count": 7,
   "id": "0caba9ae-9ac4-4768-be1d-8bae9e21b8d0",
   "metadata": {},
   "outputs": [
    {
     "name": "stdout",
     "output_type": "stream",
     "text": [
      "1\n",
      "2\n",
      "3\n",
      "4\n"
     ]
    }
   ],
   "source": [
    "# Iterate over a list\n",
    "numbers = [1, 2, 3, 4]\n",
    "for num in numbers:\n",
    "    print(num)"
   ]
  },
  {
   "cell_type": "code",
   "execution_count": 1,
   "id": "b88b3ad9-425d-48eb-9d6c-1207167a17e5",
   "metadata": {},
   "outputs": [
    {
     "data": {
      "text/plain": [
       "range"
      ]
     },
     "execution_count": 1,
     "metadata": {},
     "output_type": "execute_result"
    }
   ],
   "source": [
    "type(range(5))"
   ]
  },
  {
   "cell_type": "code",
   "execution_count": 3,
   "id": "99a168b0-ff43-4e7b-bbd0-6a9067a0928b",
   "metadata": {},
   "outputs": [
    {
     "name": "stdout",
     "output_type": "stream",
     "text": [
      "range(0, 5)\n"
     ]
    }
   ],
   "source": [
    "x = range(5)\n",
    "print(x)"
   ]
  },
  {
   "cell_type": "code",
   "execution_count": 5,
   "id": "5420a335-f295-412f-afc0-4e2c080f1399",
   "metadata": {},
   "outputs": [
    {
     "name": "stdout",
     "output_type": "stream",
     "text": [
      "0\n",
      "1\n",
      "2\n",
      "3\n",
      "4\n"
     ]
    }
   ],
   "source": [
    "# Iterate with a range\n",
    "for i in range(5):\n",
    "    print(i)  # 0 to 4"
   ]
  },
  {
   "cell_type": "code",
   "execution_count": 6,
   "id": "54428609-9ed0-40c7-9f71-4c4202b07ec8",
   "metadata": {},
   "outputs": [
    {
     "name": "stdout",
     "output_type": "stream",
     "text": [
      "1\n",
      "3\n"
     ]
    }
   ],
   "source": [
    "# Using break and continue\n",
    "for num in range(10):\n",
    "    if num == 5:\n",
    "        break  # Exit the loop\n",
    "    elif num % 2 == 0:\n",
    "        continue  # Skip even numbers\n",
    "    print(num)"
   ]
  },
  {
   "cell_type": "markdown",
   "id": "79215436-16e6-4f53-9fd9-c86975d653f6",
   "metadata": {},
   "source": [
    "### **while Loop**\n",
    "- Repeats as long as the condition is `True`.\n",
    "\n",
    "| **Syntax**                                 | **Description**                                      |\n",
    "|--------------------------------------------|------------------------------------------------------|\n",
    "| `while condition:`                         | Executes block while the condition is `True`.        |\n"
   ]
  },
  {
   "cell_type": "code",
   "execution_count": 8,
   "id": "600cbf00-6845-4e1f-b51a-4ab79fda6003",
   "metadata": {},
   "outputs": [
    {
     "name": "stdout",
     "output_type": "stream",
     "text": [
      "0\n",
      "1\n",
      "2\n",
      "3\n",
      "4\n"
     ]
    }
   ],
   "source": [
    "count = 0\n",
    "while count < 5:\n",
    "    print(count)\n",
    "    count += 1\n"
   ]
  },
  {
   "cell_type": "markdown",
   "id": "0b8fdb3b-5e5c-41d4-97a6-12e9d3170434",
   "metadata": {},
   "source": [
    "### **Nested Loops**\n",
    "Loops can be nested to iterate over multiple sequences."
   ]
  },
  {
   "cell_type": "code",
   "execution_count": 9,
   "id": "21132cc0-930c-41b2-ab16-9a5bc15fbf18",
   "metadata": {},
   "outputs": [
    {
     "name": "stdout",
     "output_type": "stream",
     "text": [
      "i=0, j=0\n",
      "i=0, j=1\n",
      "i=0, j=2\n",
      "i=1, j=0\n",
      "i=1, j=1\n",
      "i=1, j=2\n",
      "i=2, j=0\n",
      "i=2, j=1\n",
      "i=2, j=2\n"
     ]
    }
   ],
   "source": [
    "for i in range(3):\n",
    "    for j in range(3):\n",
    "        print(f\"i={i}, j={j}\")"
   ]
  },
  {
   "cell_type": "markdown",
   "id": "28f8e843-e930-43de-93a0-5c6b46526e7c",
   "metadata": {},
   "source": [
    "---\n",
    "## **3. Functions**\n",
    "Functions are reusable blocks of code that perform a specific task.\n",
    "\n",
    "### **Defining a Function**\n",
    "```python\n",
    "def function_name(parameters):\n",
    "    # Code block\n",
    "    return value\n",
    "```\n",
    "\n",
    "### **Calling a Function**\n",
    "```python\n",
    "result = function_name(arguments)\n",
    "```"
   ]
  },
  {
   "cell_type": "code",
   "execution_count": 10,
   "id": "7d06422a-f3ca-48f0-bc14-a91e59b626a5",
   "metadata": {},
   "outputs": [
    {
     "name": "stdout",
     "output_type": "stream",
     "text": [
      "Hello, Alice!\n"
     ]
    }
   ],
   "source": [
    "def greet(name):\n",
    "    return f\"Hello, {name}!\"\n",
    "\n",
    "print(greet(\"Alice\"))  # Output: Hello, Alice!"
   ]
  },
  {
   "cell_type": "markdown",
   "id": "b5828e96-d3de-4c7d-86e0-6a965fb2a549",
   "metadata": {},
   "source": [
    "### **Types of Function Arguments**\n",
    "1. **Positional Arguments**\n",
    "   - Passed in the same order as parameters."
   ]
  },
  {
   "cell_type": "code",
   "execution_count": 11,
   "id": "e393e980-ac63-4bb7-b3f7-0a7af8c25e44",
   "metadata": {},
   "outputs": [
    {
     "name": "stdout",
     "output_type": "stream",
     "text": [
      "5\n"
     ]
    }
   ],
   "source": [
    "def add(a, b):\n",
    "   return a + b\n",
    "    \n",
    "print(add(2, 3))  # 5"
   ]
  },
  {
   "cell_type": "markdown",
   "id": "b59a8c1e-cde4-4349-8fe4-503b65116092",
   "metadata": {},
   "source": [
    "2. **Keyword Arguments**\n",
    "   - Pass arguments using parameter names."
   ]
  },
  {
   "cell_type": "code",
   "execution_count": 12,
   "id": "810811c1-1ccc-430a-8487-808f388ef6fa",
   "metadata": {},
   "outputs": [
    {
     "name": "stdout",
     "output_type": "stream",
     "text": [
      "I am Alice, and I am 25 years old.\n"
     ]
    }
   ],
   "source": [
    "def introduce(name, age):\n",
    "   print(f\"I am {name}, and I am {age} years old.\")\n",
    "\n",
    "introduce(age=25, name=\"Alice\")"
   ]
  },
  {
   "cell_type": "markdown",
   "id": "fe8bb06e-994e-45c1-b281-af7a2c0b544a",
   "metadata": {},
   "source": [
    "3. **Default Arguments**\n",
    "   - Provide default values to parameters."
   ]
  },
  {
   "cell_type": "code",
   "execution_count": 14,
   "id": "1c97bd3e-d424-44e7-abcb-8bf294438aed",
   "metadata": {},
   "outputs": [
    {
     "name": "stdout",
     "output_type": "stream",
     "text": [
      "Hello, Guest!\n"
     ]
    }
   ],
   "source": [
    "def greet(name=\"Guest\"):\n",
    "   print(f\"Hello, {name}!\")\n",
    "\n",
    "greet()  # Hello, Guest!"
   ]
  },
  {
   "cell_type": "markdown",
   "id": "37c405dd-282a-43de-8a29-5ef5989d1207",
   "metadata": {},
   "source": [
    "4. **Variable-Length Arguments**\n",
    "   - `*args`: Allows multiple positional arguments.\n",
    "   - `**kwargs`: Allows multiple keyword arguments."
   ]
  },
  {
   "cell_type": "code",
   "execution_count": 4,
   "id": "5cde955f-74bf-45f7-8b25-302b4f12d411",
   "metadata": {},
   "outputs": [
    {
     "name": "stdout",
     "output_type": "stream",
     "text": [
      "Positional arguments: (1, 2, 3, 5)\n",
      "Keyword arguments: {'name': 'Alice', 'age': 25}\n"
     ]
    }
   ],
   "source": [
    "def display_items(*args, **kwargs):\n",
    "   print(\"Positional arguments:\", args)\n",
    "   print(\"Keyword arguments:\", kwargs)\n",
    "\n",
    "display_items(1, 2, 3,5, name=\"Alice\", age=25)"
   ]
  },
  {
   "cell_type": "markdown",
   "id": "6ae4959e-3692-4486-8a0a-e6106cafb39c",
   "metadata": {},
   "source": [
    "### **Return Values**\n",
    "Functions can return values using the `return` keyword."
   ]
  },
  {
   "cell_type": "code",
   "execution_count": 18,
   "id": "9311bb65-8ddb-4d9a-b22a-27adfc269768",
   "metadata": {},
   "outputs": [
    {
     "name": "stdout",
     "output_type": "stream",
     "text": [
      "16\n"
     ]
    }
   ],
   "source": [
    "def square(num):\n",
    "    return num ** 2\n",
    "\n",
    "result = square(4)\n",
    "print(result)  # 16\n"
   ]
  },
  {
   "cell_type": "markdown",
   "id": "777baa1c-721e-49d2-8b3f-0bea8adbb293",
   "metadata": {},
   "source": [
    "---\n",
    "## **4. Exception Handling**\n",
    "\n",
    "Exception handling ensures that the program continues running even after encountering errors.\n",
    "\n",
    "### **try-except Blocks**\n",
    "| **Syntax**                       | **Description**                          |\n",
    "|-----------------------------------|------------------------------------------|\n",
    "| `try:`                           | Write the code that may raise an error.  |\n",
    "| `except:`                        | Handle the error if it occurs.           |\n",
    "| `else:`                          | Execute code if no exceptions occur.     |\n",
    "| `finally:`                       | Code that always executes.               |"
   ]
  },
  {
   "cell_type": "code",
   "execution_count": 5,
   "id": "edf8344b-2ef1-4fb1-9a12-befdbec4324a",
   "metadata": {},
   "outputs": [
    {
     "name": "stdin",
     "output_type": "stream",
     "text": [
      "Enter a number:  5\n"
     ]
    },
    {
     "name": "stdout",
     "output_type": "stream",
     "text": [
      "2.0\n",
      "Division successful.\n",
      "Execution completed.\n"
     ]
    }
   ],
   "source": [
    "try:\n",
    "    num = int(input(\"Enter a number: \"))\n",
    "    print(10 / num)\n",
    "except ValueError:\n",
    "    print(\"Invalid input. Please enter a valid number.\")\n",
    "except ZeroDivisionError:\n",
    "    print(\"Cannot divide by zero.\")\n",
    "else:\n",
    "    print(\"Division successful.\")\n",
    "finally:\n",
    "    print(\"Execution completed.\")"
   ]
  },
  {
   "cell_type": "markdown",
   "id": "2eca6ccc-5b25-4921-9156-e935b58a97de",
   "metadata": {},
   "source": [
    "---\n",
    "## Assignment 2:\n",
    "Write a program to calculate the factorial of a number using **recursion** and **iteration**."
   ]
  },
  {
   "cell_type": "markdown",
   "id": "a13a69fe-cd20-4810-81c7-770e09470a08",
   "metadata": {
    "jp-MarkdownHeadingCollapsed": true
   },
   "source": [
    "<details>\n",
    "    <summary> Solution 1 Using Iteration </summary>\n",
    "\n",
    "```python\n",
    "# Using Iteration\n",
    "def factorial_iterative(n):\n",
    "    result = 1\n",
    "    for i in range(1, n + 1):\n",
    "        result *= i\n",
    "    return result\n",
    "\n",
    "# Input\n",
    "num = int(input(\"Enter a number: \"))\n",
    "print(f\"Factorial (Iterative): {factorial_iterative(num)}\")\n",
    "```\n",
    "</details>\n"
   ]
  },
  {
   "cell_type": "code",
   "execution_count": null,
   "id": "393ba8ec-d2a6-4b5b-baf7-f63ccdca83bc",
   "metadata": {},
   "outputs": [],
   "source": []
  },
  {
   "cell_type": "markdown",
   "id": "e5adc3db-dc39-449d-b809-9bd4a729ba42",
   "metadata": {},
   "source": [
    "<details>\n",
    "    <summary> Solution 2 Using Recursion </summary>\n",
    "\n",
    "```python\n",
    "# Using Recursion\n",
    "def factorial_recursive(n):\n",
    "    if n == 0 or n == 1:\n",
    "        return 1\n",
    "    return n * factorial_recursive(n - 1)\n",
    "\n",
    "# Input\n",
    "num = int(input(\"Enter a number: \"))\n",
    "print(f\"Factorial (Recursive): {factorial_recursive(num)}\")\n",
    "```\n",
    "</details>"
   ]
  },
  {
   "cell_type": "code",
   "execution_count": null,
   "id": "7330e948-21e7-41e8-9dc9-db7cd8e1b0eb",
   "metadata": {},
   "outputs": [],
   "source": []
  },
  {
   "cell_type": "markdown",
   "id": "7031304a-6089-4197-903e-e5f5ab7059a1",
   "metadata": {},
   "source": [
    "---\n",
    "## **Debugging and Doubt-Solving Tips**\n",
    "\n",
    "### **Common Issues in Loops and Conditionals**\n",
    "1. **Infinite Loops**:\n",
    "   - Ensure the loop's condition changes during execution.\n",
    "   ```python\n",
    "   count = 0\n",
    "   while count < 5:  # Ensure count increments\n",
    "       count += 1\n",
    "   ```\n",
    "\n",
    "2. **Logical Errors**:\n",
    "   - Test edge cases (e.g., negative numbers, zero).\n",
    "\n",
    "3. **Indentation Errors**:\n",
    "   - Properly align blocks of code.\n",
    "\n",
    "4. **Off-by-One Errors**:\n",
    "   - Double-check loop ranges (`range(start, end)` excludes `end`).\n",
    "\n",
    "#### **Example Debug**\n",
    "```python\n",
    "# Incorrect\n",
    "for i in range(1, 10):  # Meant to iterate till 10\n",
    "    print(i)\n",
    "\n",
    "# Fix\n",
    "for i in range(1, 11):  # Include 10\n",
    "    print(i)\n",
    "```\n",
    "\n",
    "--- \n",
    "```"
   ]
  },
  {
   "cell_type": "code",
   "execution_count": null,
   "id": "1c73422a-fa12-4e82-8e9a-ef81db19ec85",
   "metadata": {},
   "outputs": [],
   "source": []
  }
 ],
 "metadata": {
  "kernelspec": {
   "display_name": "Python 3 (ipykernel)",
   "language": "python",
   "name": "python3"
  },
  "language_info": {
   "codemirror_mode": {
    "name": "ipython",
    "version": 3
   },
   "file_extension": ".py",
   "mimetype": "text/x-python",
   "name": "python",
   "nbconvert_exporter": "python",
   "pygments_lexer": "ipython3",
   "version": "3.12.3"
  }
 },
 "nbformat": 4,
 "nbformat_minor": 5
}
