{
 "cells": [
  {
   "cell_type": "markdown",
   "id": "243d29e8-c88b-4471-8b58-491c9b3e842c",
   "metadata": {},
   "source": [
    "# **Python Basics**\n",
    "\n",
    "\n",
    "## **1. Python Syntax**\n",
    "---\n",
    "### **What is Syntax?**\n",
    "- Syntax refers to the set of rules that defines how Python code is written and structured.\n",
    "- Python emphasizes readability and uses indentation instead of curly braces (`{}`) to define code"
   ]
  },
  {
   "cell_type": "markdown",
   "id": "4da9e948-a24f-4d2b-9a79-ec9bdae9e2f4",
   "metadata": {},
   "source": [
    "### **Key Syntax Rules in Python**\n",
    "1. **Case Sensitivity**: Python is case-sensitive."
   ]
  },
  {
   "cell_type": "code",
   "execution_count": 8,
   "id": "6c9bcefe-c919-480a-9627-c71fab3d19e7",
   "metadata": {},
   "outputs": [
    {
     "name": "stdout",
     "output_type": "stream",
     "text": [
      "Alice\n",
      "Bob\n"
     ]
    }
   ],
   "source": [
    "Name = \"Alice\"\n",
    "name = \"Bob\"\n",
    "print(Name)  # Alice\n",
    "print(name)  # Bobblocks."
   ]
  },
  {
   "cell_type": "markdown",
   "id": "a2dca0ec-5f52-45f9-b377-2ed68d0b6f63",
   "metadata": {},
   "source": [
    "2. **Statements End Without Semicolon**: No need for a semicolon to end a statement (optional)."
   ]
  },
  {
   "cell_type": "code",
   "execution_count": 9,
   "id": "095288f0-38fc-48b9-bcd3-d07bd64afabc",
   "metadata": {},
   "outputs": [
    {
     "name": "stdout",
     "output_type": "stream",
     "text": [
      "Hello, World!\n"
     ]
    }
   ],
   "source": [
    "print(\"Hello, World!\")"
   ]
  },
  {
   "cell_type": "markdown",
   "id": "051ff2a3-6ed0-40bc-abc2-b8af28c62ac0",
   "metadata": {},
   "source": [
    "3. **Comments**:\n",
    "   - **Single-line**: Use `#` to add comments.\n",
    "   - **Multi-line**: Use triple quotes (`'''` or `\"\"\"`)."
   ]
  },
  {
   "cell_type": "code",
   "execution_count": 11,
   "id": "37a45f90-aa58-478d-b07e-d12ee7f6f861",
   "metadata": {},
   "outputs": [
    {
     "data": {
      "text/plain": [
       "'\\nThis is a\\nmulti-line comment.\\n'"
      ]
     },
     "execution_count": 11,
     "metadata": {},
     "output_type": "execute_result"
    }
   ],
   "source": [
    "# This is a single-line comment.\n",
    "\n",
    "\"\"\"\n",
    "This is a\n",
    "multi-line comment.\n",
    "\"\"\""
   ]
  },
  {
   "cell_type": "markdown",
   "id": "9d1f3fc1-38eb-4d85-8adb-ddaefcd0475b",
   "metadata": {},
   "source": [
    "---\n",
    "## **2. Variables and Assignment**\n",
    "\n",
    "### **What are Variables?**\n",
    "- Variables are containers for storing data values.\n",
    "- No need to declare the type explicitly; Python automatically infers it.\n",
    "\n",
    "### **Rules for Naming Variables**\n",
    "1. Must start with a letter or underscore (`_`).\n",
    "2. Cannot start with a number.\n",
    "3. Can only contain alphanumeric characters and underscores.\n",
    "4. Case-sensitive.\n",
    "### **Examples of Variable Declaration**"
   ]
  },
  {
   "cell_type": "code",
   "execution_count": 1,
   "id": "3bb11ac8-dde4-4de8-a1aa-014134d5bcbe",
   "metadata": {},
   "outputs": [
    {
     "name": "stdout",
     "output_type": "stream",
     "text": [
      "<class 'int'>\n",
      "<class 'float'>\n",
      "<class 'str'>\n"
     ]
    }
   ],
   "source": [
    "x = 10       # Integer\n",
    "y = 3.14     # Float\n",
    "name = \"John\"  # String\n",
    "print(type(x))\n",
    "print(type(y))\n",
    "print(type(name))"
   ]
  },
  {
   "cell_type": "markdown",
   "id": "5b309b16-61c6-4d45-84f1-9c7f1fb3fbee",
   "metadata": {},
   "source": [
    "### **Dynamic Typing**\n",
    "Variables can change type during execution:"
   ]
  },
  {
   "cell_type": "code",
   "execution_count": 14,
   "id": "65c5a10a-1f76-41c9-a3bf-03b90e10ce2d",
   "metadata": {},
   "outputs": [
    {
     "name": "stdout",
     "output_type": "stream",
     "text": [
      "<class 'int'>\n",
      "<class 'str'>\n"
     ]
    }
   ],
   "source": [
    "x = 10       # Initially an integer\n",
    "print(type(x))\n",
    "x = \"Python\" # Now a string\n",
    "print(type(x))"
   ]
  },
  {
   "cell_type": "markdown",
   "id": "4280d5e0-4c62-475e-a3f0-6ddaf2099445",
   "metadata": {},
   "source": [
    "---\n",
    "## **3. Python Data Types**\n",
    "\n",
    "Python has several built-in data types that can be classified as:\n",
    "\n",
    "### **Numeric Types**\n",
    "- **Integer**: Whole numbers, e.g., `5`, `-2`\n",
    "- **Float**: Decimal numbers, e.g., `3.14`, `-0.5`"
   ]
  },
  {
   "cell_type": "markdown",
   "id": "7413fee0-dac5-4ede-8b38-ba728eb7277c",
   "metadata": {},
   "source": [
    "### **Text Type**\n",
    "- **String**: A sequence of characters enclosed in quotes (`\" \"` or `' '`)."
   ]
  },
  {
   "cell_type": "code",
   "execution_count": 16,
   "id": "c7f28148-6df5-438b-979b-e0675daa6244",
   "metadata": {},
   "outputs": [
    {
     "name": "stdout",
     "output_type": "stream",
     "text": [
      "Hello, World!\n"
     ]
    }
   ],
   "source": [
    "text = \"Hello, World!\"\n",
    "print(text)"
   ]
  },
  {
   "cell_type": "markdown",
   "id": "e010220b-9125-42e0-a0c4-e92fb0e43857",
   "metadata": {},
   "source": [
    "### **Sequence Types**\n",
    "1. **List**: Ordered, mutable, and allows duplicate items."
   ]
  },
  {
   "cell_type": "code",
   "execution_count": 17,
   "id": "fec32d16-3589-468e-9c79-5d973d17da86",
   "metadata": {},
   "outputs": [
    {
     "name": "stdout",
     "output_type": "stream",
     "text": [
      "[1, 2, 3, 'apple']\n",
      "1\n"
     ]
    }
   ],
   "source": [
    "my_list = [1, 2, 3, \"apple\"]\n",
    "print(my_list)\n",
    "print(my_list[0])  # Accessing the first item (1)"
   ]
  },
  {
   "cell_type": "markdown",
   "id": "a8325d78-dabd-42f4-9396-82bf453525a7",
   "metadata": {},
   "source": [
    "### **Common List Operations**\n",
    "\n",
    "| **Operation**      | **Syntax/Example**                           | **Description**                       |\n",
    "|---------------------|----------------------------------------------|---------------------------------------|\n",
    "| **Access Elements**| `my_list[0]`                                 | Access element by index.              |\n",
    "| **Add Elements**   | `my_list.append(4)`                          | Add element at the end.               |\n",
    "|                    | `my_list.insert(2, \"new\")`                   | Add element at specific index.        |\n",
    "| **Update Elements**| `my_list[1] = \"updated_value\"`               | Change value at index 1.              |\n",
    "| **Delete Elements**| `del my_list[0]`                             | Delete element at index 0.            |\n",
    "|                    | `my_list.pop(2)`                             | Remove and return element at index 2. |\n",
    "|                    | `my_list.remove(\"apple\")`                    | Remove first occurrence of \"apple\".   |\n",
    "| **Check Membership**| `\"apple\" in my_list`                        | Check if \"apple\" exists in the list.  |"
   ]
  },
  {
   "cell_type": "code",
   "execution_count": 2,
   "id": "0a3b9479-3316-490e-943d-7ff5dcb4a743",
   "metadata": {},
   "outputs": [
    {
     "name": "stdout",
     "output_type": "stream",
     "text": [
      "[1, 2, 3, 'apple']\n",
      "1\n",
      "[1, 2, 3, 'apple', 4]\n",
      "[1, 2, 'new', 3, 'apple', 4]\n",
      "[1, 'updated', 'new', 3, 'apple', 4]\n",
      "[1, 'updated', 'new', 3, 4]\n"
     ]
    }
   ],
   "source": [
    "my_list = [1, 2, 3, \"apple\"]\n",
    "print(my_list)\n",
    "print(my_list[0])       # Access: 1\n",
    "my_list.append(4)       # Add: [1, 2, 3, \"apple\", 4]\n",
    "print(my_list)\n",
    "my_list.insert(2, \"new\")# Add at index: [1, 2, \"new\", 3, \"apple\", 4]\n",
    "print(my_list)\n",
    "my_list[1] = \"updated\"  # Update: [1, \"updated\", \"new\", 3, \"apple\", 4]\n",
    "print(my_list)\n",
    "my_list.remove(\"apple\") # Remove: [1, \"updated\", \"new\", 3, 4]\n",
    "print(my_list)"
   ]
  },
  {
   "cell_type": "markdown",
   "id": "346cea7e-832a-420c-b047-e3c46786b789",
   "metadata": {},
   "source": [
    "2. **Tuple**: Ordered, immutable, and allows duplicates."
   ]
  },
  {
   "cell_type": "code",
   "execution_count": 18,
   "id": "19675ff6-a68b-463c-bb15-60b2277c39e6",
   "metadata": {},
   "outputs": [
    {
     "name": "stdout",
     "output_type": "stream",
     "text": [
      "(1, 2, 3, 'apple')\n",
      "1\n"
     ]
    }
   ],
   "source": [
    "my_tuple = (1, 2, 3, \"apple\")\n",
    "print(my_tuple)\n",
    "print(my_tuple[0])"
   ]
  },
  {
   "cell_type": "markdown",
   "id": "a6e0ff3e-5ab6-4eb0-a697-c81323c1c202",
   "metadata": {},
   "source": [
    "### **Common Tuple Operations**\n",
    "| **Operation**      | **Syntax/Example**              | **Description**                |\n",
    "|---------------------|---------------------------------|--------------------------------|\n",
    "| **Access Elements**| `my_tuple[1]`                  | Access element by index.       |\n",
    "| **Count Elements** | `my_tuple.count(\"apple\")`      | Count occurrences of an item.  |\n",
    "| **Index of Item**  | `my_tuple.index(\"apple\")`      | Get index of an item.          |\n",
    "\n",
    "> **Note**: Tuples cannot be modified (no add, edit, or delete operations)."
   ]
  },
  {
   "cell_type": "code",
   "execution_count": 33,
   "id": "6e4e00fa-c6c4-4604-b347-4b5dbdda5882",
   "metadata": {},
   "outputs": [
    {
     "name": "stdout",
     "output_type": "stream",
     "text": [
      "2\n",
      "2\n",
      "3\n"
     ]
    }
   ],
   "source": [
    "my_tuple = (1, 2, 3, \"apple\", 2)\n",
    "print(my_tuple[1])         # Access: 2\n",
    "print(my_tuple.count(2))   # Count: 2\n",
    "print(my_tuple.index(\"apple\")) # Index: 3\n"
   ]
  },
  {
   "cell_type": "markdown",
   "id": "6612f8f6-1297-481c-b2f4-ee38e8252b5f",
   "metadata": {},
   "source": [
    "3. **Range**: Sequence of numbers."
   ]
  },
  {
   "cell_type": "code",
   "execution_count": 3,
   "id": "dff0301a-aa35-4e6c-bab1-ab2b73b13f56",
   "metadata": {},
   "outputs": [
    {
     "name": "stdout",
     "output_type": "stream",
     "text": [
      "range(0, 5)\n",
      "0\n",
      "1\n",
      "2\n",
      "3\n",
      "4\n"
     ]
    }
   ],
   "source": [
    "r = range(5)  # Generates numbers from 0 to 4\n",
    "print(r)\n",
    "for num in r:\n",
    "    print(num)"
   ]
  },
  {
   "cell_type": "markdown",
   "id": "b187638d-75be-4c1d-abce-49d82445a164",
   "metadata": {},
   "source": [
    "### **Mapping Type**\n",
    "- **Dictionary**: Unordered, mutable collection of key-value pairs."
   ]
  },
  {
   "cell_type": "code",
   "execution_count": 21,
   "id": "e6155779-598f-45df-b88a-267687865620",
   "metadata": {},
   "outputs": [
    {
     "name": "stdout",
     "output_type": "stream",
     "text": [
      "{'name': 'Alice', 'age': 25}\n",
      "Alice\n"
     ]
    }
   ],
   "source": [
    "my_dict = {\"name\": \"Alice\", \"age\": 25}\n",
    "print(my_dict)\n",
    "print(my_dict[\"name\"])  # Access the value of the \"name\" key"
   ]
  },
  {
   "cell_type": "markdown",
   "id": "39aaa095-3bbe-462f-ac95-0c42ca797d4c",
   "metadata": {},
   "source": [
    "### **Common Dictionary Operations**\n",
    "\n",
    "| **Operation**        | **Syntax/Example**                         | **Description**                          |\n",
    "|-----------------------|--------------------------------------------|------------------------------------------|\n",
    "| **Access Value**      | `my_dict[\"key\"]`                          | Access value by key.                     |\n",
    "| **Add/Update Key-Value** | `my_dict[\"new_key\"] = \"new_value\"`      | Add or update a key-value pair.          |\n",
    "| **Delete Key-Value**  | `del my_dict[\"key\"]`                      | Delete a key-value pair.                 |\n",
    "|                      | `my_dict.pop(\"key\")`                      | Remove and return value of key.          |\n",
    "| **Check Membership**  | `\"key\" in my_dict`                        | Check if key exists in dictionary.       |\n",
    "| **Get All Keys**      | `my_dict.keys()`                          | Get all keys in the dictionary.          |\n",
    "| **Get All Values**    | `my_dict.values()`                        | Get all values in the dictionary.        |\n",
    "| **Iterate Dictionary**| `for key, value in my_dict.items()`       | Iterate over key-value pairs.            |"
   ]
  },
  {
   "cell_type": "code",
   "execution_count": 37,
   "id": "19892785-4572-4fba-b8ee-e02845697c94",
   "metadata": {},
   "outputs": [
    {
     "name": "stdout",
     "output_type": "stream",
     "text": [
      "{'name': 'Alice', 'age': 25, 'city': 'New York'}\n",
      "Alice\n",
      "{'name': 'Alice', 'age': 25, 'city': 'New York', 'country': 'USA'}\n",
      "{'name': 'Alice', 'age': 30, 'city': 'New York', 'country': 'USA'}\n",
      "name Alice\n",
      "age 30\n",
      "country USA\n"
     ]
    }
   ],
   "source": [
    "my_dict = {\"name\": \"Alice\", \"age\": 25, \"city\": \"New York\"}\n",
    "print(my_dict)\n",
    "print(my_dict[\"name\"])          # Access: Alice\n",
    "my_dict[\"country\"] = \"USA\"      # Add: {\"name\": \"Alice\", ... \"country\": \"USA\"}\n",
    "print(my_dict)\n",
    "my_dict[\"age\"] = 30             # Update: {\"name\": \"Alice\", \"age\": 30, ...}\n",
    "print(my_dict)\n",
    "del my_dict[\"city\"]             # Delete: {\"name\": \"Alice\", \"age\": 30, \"country\": \"USA\"}\n",
    "for key, value in my_dict.items():\n",
    "    print(key, value)           # Iterate: Outputs key-value pairs"
   ]
  },
  {
   "cell_type": "markdown",
   "id": "1beb58d5-8c80-40d0-a4eb-149b9a60a470",
   "metadata": {},
   "source": [
    "### **Comparison Between List, Tuple, and Dictionary**\n",
    "\n",
    "| Feature                  | List                  | Tuple                 | Dictionary                |\n",
    "|--------------------------|-----------------------|-----------------------|---------------------------|\n",
    "| **Order Maintained**     | ✅ Yes               | ✅ Yes               | ❌ No                    |\n",
    "| **Mutable**              | ✅ Yes               | ❌ No                | ✅ Yes                   |\n",
    "| **Duplicates Allowed**   | ✅ Yes               | ✅ Yes               | ❌ Keys must be unique   |\n",
    "| **Access by Index**      | ✅ Yes               | ✅ Yes               | ❌ Access by key only    |\n",
    "| **Example Syntax**       | `[1, 2, 3]`          | `(1, 2, 3)`          | `{\"key\": \"value\"}`       |"
   ]
  },
  {
   "cell_type": "markdown",
   "id": "9fd1a7e3-dcca-4a7c-ab15-abafe7da72d5",
   "metadata": {},
   "source": [
    "### **Boolean Type**\n",
    "- **Boolean**: Represents `True` or `False`."
   ]
  },
  {
   "cell_type": "code",
   "execution_count": 23,
   "id": "56781725-14be-45f5-b9c1-c45b79964568",
   "metadata": {},
   "outputs": [
    {
     "name": "stdout",
     "output_type": "stream",
     "text": [
      "Active\n"
     ]
    }
   ],
   "source": [
    "is_active = True\n",
    "if is_active:\n",
    "    print(\"Active\")"
   ]
  },
  {
   "cell_type": "markdown",
   "id": "0a80e662-867d-4b44-8dfb-2697b360dfbf",
   "metadata": {},
   "source": [
    "---\n",
    "## **4. Type Conversion**\n",
    "\n",
    "Python allows converting data types explicitly using type conversion functions:\n",
    "\n",
    "### **Examples**\n",
    "1. **Integer to String**"
   ]
  },
  {
   "cell_type": "code",
   "execution_count": 24,
   "id": "10ffbf01-1a49-49b0-ae15-c2ff63823407",
   "metadata": {},
   "outputs": [
    {
     "name": "stdout",
     "output_type": "stream",
     "text": [
      "10\n",
      "<class 'int'>\n",
      "10\n",
      "<class 'str'>\n"
     ]
    }
   ],
   "source": [
    "num = 10\n",
    "print(num)\n",
    "print(type(num))\n",
    "num_str = str(num)  # Converts 10 to \"10\"\n",
    "print(num_str)\n",
    "print(type(num_str))"
   ]
  },
  {
   "cell_type": "markdown",
   "id": "f29a70ce-e61d-44a6-99f5-847a9d11df7e",
   "metadata": {},
   "source": [
    "2. **String to Integer**"
   ]
  },
  {
   "cell_type": "code",
   "execution_count": 25,
   "id": "f559f107-1fff-45cb-816e-4ff1e7b74e8b",
   "metadata": {},
   "outputs": [
    {
     "name": "stdout",
     "output_type": "stream",
     "text": [
      "25\n",
      "<class 'str'>\n",
      "25\n",
      "<class 'int'>\n"
     ]
    }
   ],
   "source": [
    "age = \"25\"\n",
    "print(age)\n",
    "print(type(age))\n",
    "age_int = int(age)  # Converts \"25\" to 25\n",
    "print(age_int)\n",
    "print(type(age_int))"
   ]
  },
  {
   "cell_type": "markdown",
   "id": "7feed81b-1e99-4ec1-a906-9f4d80e2c561",
   "metadata": {},
   "source": [
    "3. **String to Float**"
   ]
  },
  {
   "cell_type": "code",
   "execution_count": 26,
   "id": "02406fda-ea8b-4641-976f-bc9c7255744b",
   "metadata": {},
   "outputs": [
    {
     "name": "stdout",
     "output_type": "stream",
     "text": [
      "5.8\n",
      "<class 'str'>\n",
      "5.8\n",
      "<class 'float'>\n"
     ]
    }
   ],
   "source": [
    "height = \"5.8\"\n",
    "print(height)\n",
    "print(type(height))\n",
    "height_float = float(height)  # Converts \"5.8\" to 5.8\n",
    "print(height_float)\n",
    "print(type(height_float))"
   ]
  },
  {
   "cell_type": "markdown",
   "id": "25230f12-e866-4d5d-882f-c9f898232db8",
   "metadata": {},
   "source": [
    "4. **List to Tuple**"
   ]
  },
  {
   "cell_type": "code",
   "execution_count": 28,
   "id": "52296674-880a-4dd6-915a-7ac10b044fdb",
   "metadata": {},
   "outputs": [
    {
     "name": "stdout",
     "output_type": "stream",
     "text": [
      "<class 'list'>\n",
      "<class 'tuple'>\n"
     ]
    }
   ],
   "source": [
    "my_list = [1, 2, 3]\n",
    "print(type(my_list))\n",
    "my_tuple = tuple(my_list)\n",
    "print(type(my_tuple))"
   ]
  },
  {
   "cell_type": "markdown",
   "id": "14010736-b3d6-4109-ab5a-b63987efdaf0",
   "metadata": {},
   "source": [
    "---\n",
    "## **5. Operators in Python**\n",
    "\n",
    "Python provides several operators for performing operations on variables and values.\n",
    "\n",
    "---\n",
    "### **Arithmetic Operators**\n",
    "| Operator | Description         | Example       |\n",
    "|----------|---------------------|---------------|\n",
    "| `+`      | Addition            | `2 + 3 = 5`  |\n",
    "| `-`      | Subtraction         | `5 - 3 = 2`  |\n",
    "| `*`      | Multiplication      | `4 * 2 = 8`  |\n",
    "| `/`      | Division            | `10 / 2 = 5` |\n",
    "| `**`     | Exponentiation      | `2 ** 3 = 8` |\n",
    "| `//`     | Floor Division      | `5 // 2 = 2` |\n",
    "| `%`      | Modulus (remainder) | `5 % 2 = 1`  |\n",
    "\n",
    "---\n",
    "### **Comparison Operators**\n",
    "| Operator | Description            | Example       |\n",
    "|----------|------------------------|---------------|\n",
    "| `==`     | Equal to               | `x == y`      |\n",
    "| `!=`     | Not equal to           | `x != y`      |\n",
    "| `>`      | Greater than           | `x > y`       |\n",
    "| `<`      | Less than              | `x < y`       |\n",
    "| `>=`     | Greater than or equal  | `x >= y`      |\n",
    "| `<=`     | Less than or equal     | `x <= y`      |\n",
    "\n",
    "---\n",
    "### **Logical Operators**\n",
    "| Operator | Description            | Example              |\n",
    "|----------|------------------------|----------------------|\n",
    "| `and`    | Logical AND            | `x > 5 and y < 10`   |\n",
    "| `or`     | Logical OR             | `x > 5 or y < 10`    |\n",
    "| `not`    | Logical NOT            | `not(x > 5)`         |\n",
    "\n",
    "---\n",
    "### **Assignment Operators**\n",
    "| Operator | Description           | Example              |\n",
    "|----------|-----------------------|----------------------|\n",
    "| `=`      | Assign value          | `x = 10`            |\n",
    "| `+=`     | Add and assign         | `x += 5` (x = x + 5)|\n",
    "| `-=`     | Subtract and assign    | `x -= 5` (x = x - 5)|"
   ]
  },
  {
   "cell_type": "markdown",
   "id": "c324e6af-9bd7-4665-9270-a152c16faefb",
   "metadata": {},
   "source": [
    "---\n",
    "## **6. Input and Output**\n",
    "\n",
    "### **Input**\n",
    "- Use `input()` to get user input as a string."
   ]
  },
  {
   "cell_type": "code",
   "execution_count": 1,
   "id": "efe527b4-9b3a-421b-a266-ce348c3e0225",
   "metadata": {},
   "outputs": [
    {
     "name": "stdin",
     "output_type": "stream",
     "text": [
      "What is your name?  test\n"
     ]
    },
    {
     "name": "stdout",
     "output_type": "stream",
     "text": [
      "Your name is:  test\n"
     ]
    }
   ],
   "source": [
    "name = input(\"What is your name? \")\n",
    "print(\"Your name is: \", name)"
   ]
  },
  {
   "cell_type": "markdown",
   "id": "c0b1d619-107a-4882-a552-4d6adbfcbc17",
   "metadata": {},
   "source": [
    "### **Output**\n",
    "- Use `print()` to display data."
   ]
  },
  {
   "cell_type": "code",
   "execution_count": 31,
   "id": "b63956f3-475b-4d14-8b2f-7483668080a2",
   "metadata": {},
   "outputs": [
    {
     "name": "stdout",
     "output_type": "stream",
     "text": [
      "Hello, World!\n",
      "Your name is sabin\n"
     ]
    }
   ],
   "source": [
    "print(\"Hello, World!\")\n",
    "print(f\"Your name is {name}\")"
   ]
  },
  {
   "cell_type": "markdown",
   "id": "cc795ed1-b0cd-4dcf-af6c-6681aacdfd44",
   "metadata": {},
   "source": [
    "---\n",
    "# Assignment 1: \n",
    "## Write a program to calculate the area of a circle"
   ]
  },
  {
   "cell_type": "markdown",
   "id": "f79762f7-9843-4368-872e-b3c3b46c37e8",
   "metadata": {},
   "source": [
    "<details>\n",
    "    <summary>Solution</summary>\n",
    "\n",
    "```python    \n",
    "# Import the math module for π (pi)\n",
    "import math\n",
    "\n",
    "# Step 1: Get the radius from the user\n",
    "radius = float(input(\"Enter the radius of the circle: \"))\n",
    "# pi = 3.14\n",
    "\n",
    "# Step 2: Calculate the area\n",
    "area = math.pi * (radius ** 2)\n",
    "# area = pi * (radius ** 2)\n",
    "# Step 3: Display the result\n",
    "print(f\"The area of the circle with radius {radius} is: {area:.2f}\")\n",
    "```\n",
    "</details>"
   ]
  },
  {
   "cell_type": "code",
   "execution_count": null,
   "id": "4f43a637-5be4-41d4-a51d-7358d2015644",
   "metadata": {},
   "outputs": [],
   "source": []
  }
 ],
 "metadata": {
  "kernelspec": {
   "display_name": "Python 3 (ipykernel)",
   "language": "python",
   "name": "python3"
  },
  "language_info": {
   "codemirror_mode": {
    "name": "ipython",
    "version": 3
   },
   "file_extension": ".py",
   "mimetype": "text/x-python",
   "name": "python",
   "nbconvert_exporter": "python",
   "pygments_lexer": "ipython3",
   "version": "3.12.3"
  }
 },
 "nbformat": 4,
 "nbformat_minor": 5
}
